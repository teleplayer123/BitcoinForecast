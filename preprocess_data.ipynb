{
 "metadata": {
  "language_info": {
   "codemirror_mode": {
    "name": "ipython",
    "version": 3
   },
   "file_extension": ".py",
   "mimetype": "text/x-python",
   "name": "python",
   "nbconvert_exporter": "python",
   "pygments_lexer": "ipython3",
   "version": "3.8.9"
  },
  "orig_nbformat": 2,
  "kernelspec": {
   "name": "pythonjvsc74a57bd0b51df7ba0ac9391c133bb7c16fdcfc3917fcd4265f51a9a1e91146428be929f2",
   "display_name": "Python 3.8.9  ('venv': venv)"
  },
  "metadata": {
   "interpreter": {
    "hash": "b51df7ba0ac9391c133bb7c16fdcfc3917fcd4265f51a9a1e91146428be929f2"
   }
  }
 },
 "nbformat": 4,
 "nbformat_minor": 2,
 "cells": [
  {
   "cell_type": "code",
   "execution_count": 1,
   "metadata": {},
   "outputs": [
    {
     "output_type": "stream",
     "name": "stdout",
     "text": [
      "Open         1.129608e+04\nHigh         1.142881e+04\nLow          1.128863e+04\nClose        1.138418e+04\nAdj Close    1.138418e+04\nVolume       1.996863e+10\nName: 2020-10-12 00:00:00, dtype: float64\n"
     ]
    }
   ],
   "source": [
    "import numpy as np \n",
    "import pandas as pd \n",
    "import datetime\n",
    "\n",
    "FORECAST_STEP = 3\n",
    "\n",
    "df = pd.read_csv(\"data/btc-usd-yf.csv\")\n",
    "df.set_index(\"Date\", inplace=True)\n",
    "df.set_index(pd.to_datetime(df.index), inplace=True)\n",
    "df.fillna(method=\"ffill\", inplace=True)\n",
    "i = df.loc[pd.to_datetime(datetime.date(2020, 10, 12))]\n",
    "print(i)"
   ]
  },
  {
   "cell_type": "code",
   "execution_count": 2,
   "metadata": {},
   "outputs": [
    {
     "output_type": "execute_result",
     "data": {
      "text/plain": [
       "                  Close     Forecast\n",
       "Date                                \n",
       "2020-05-06  9268.761719  9593.896484\n",
       "2020-05-07  9951.518555  8756.430664\n",
       "2020-05-08  9842.666016  8601.795898\n",
       "2020-05-09  9593.896484  8804.477539\n",
       "2020-05-10  8756.430664  9269.987305"
      ],
      "text/html": "<div>\n<style scoped>\n    .dataframe tbody tr th:only-of-type {\n        vertical-align: middle;\n    }\n\n    .dataframe tbody tr th {\n        vertical-align: top;\n    }\n\n    .dataframe thead th {\n        text-align: right;\n    }\n</style>\n<table border=\"1\" class=\"dataframe\">\n  <thead>\n    <tr style=\"text-align: right;\">\n      <th></th>\n      <th>Close</th>\n      <th>Forecast</th>\n    </tr>\n    <tr>\n      <th>Date</th>\n      <th></th>\n      <th></th>\n    </tr>\n  </thead>\n  <tbody>\n    <tr>\n      <th>2020-05-06</th>\n      <td>9268.761719</td>\n      <td>9593.896484</td>\n    </tr>\n    <tr>\n      <th>2020-05-07</th>\n      <td>9951.518555</td>\n      <td>8756.430664</td>\n    </tr>\n    <tr>\n      <th>2020-05-08</th>\n      <td>9842.666016</td>\n      <td>8601.795898</td>\n    </tr>\n    <tr>\n      <th>2020-05-09</th>\n      <td>9593.896484</td>\n      <td>8804.477539</td>\n    </tr>\n    <tr>\n      <th>2020-05-10</th>\n      <td>8756.430664</td>\n      <td>9269.987305</td>\n    </tr>\n  </tbody>\n</table>\n</div>"
     },
     "metadata": {},
     "execution_count": 2
    }
   ],
   "source": [
    "main_df = df.copy()\n",
    "main_df = main_df[[\"Close\"]]\n",
    "main_df[\"Forecast\"] = main_df[\"Close\"].shift(-FORECAST_STEP)\n",
    "main_df.head()"
   ]
  },
  {
   "cell_type": "code",
   "execution_count": 3,
   "metadata": {},
   "outputs": [
    {
     "output_type": "execute_result",
     "data": {
      "text/plain": [
       "                  Close     Forecast  Class\n",
       "Date                                       \n",
       "2020-05-06  9268.761719  9593.896484      1\n",
       "2020-05-07  9951.518555  8756.430664      0\n",
       "2020-05-08  9842.666016  8601.795898      0\n",
       "2020-05-09  9593.896484  8804.477539      0\n",
       "2020-05-10  8756.430664  9269.987305      1"
      ],
      "text/html": "<div>\n<style scoped>\n    .dataframe tbody tr th:only-of-type {\n        vertical-align: middle;\n    }\n\n    .dataframe tbody tr th {\n        vertical-align: top;\n    }\n\n    .dataframe thead th {\n        text-align: right;\n    }\n</style>\n<table border=\"1\" class=\"dataframe\">\n  <thead>\n    <tr style=\"text-align: right;\">\n      <th></th>\n      <th>Close</th>\n      <th>Forecast</th>\n      <th>Class</th>\n    </tr>\n    <tr>\n      <th>Date</th>\n      <th></th>\n      <th></th>\n      <th></th>\n    </tr>\n  </thead>\n  <tbody>\n    <tr>\n      <th>2020-05-06</th>\n      <td>9268.761719</td>\n      <td>9593.896484</td>\n      <td>1</td>\n    </tr>\n    <tr>\n      <th>2020-05-07</th>\n      <td>9951.518555</td>\n      <td>8756.430664</td>\n      <td>0</td>\n    </tr>\n    <tr>\n      <th>2020-05-08</th>\n      <td>9842.666016</td>\n      <td>8601.795898</td>\n      <td>0</td>\n    </tr>\n    <tr>\n      <th>2020-05-09</th>\n      <td>9593.896484</td>\n      <td>8804.477539</td>\n      <td>0</td>\n    </tr>\n    <tr>\n      <th>2020-05-10</th>\n      <td>8756.430664</td>\n      <td>9269.987305</td>\n      <td>1</td>\n    </tr>\n  </tbody>\n</table>\n</div>"
     },
     "metadata": {},
     "execution_count": 3
    }
   ],
   "source": [
    "from utils import binary_classification\n",
    "\n",
    "main_df[\"Class\"] = list(map(binary_classification, main_df[\"Close\"], main_df[\"Forecast\"]))\n",
    "main_df.head()"
   ]
  },
  {
   "cell_type": "code",
   "execution_count": 5,
   "metadata": {},
   "outputs": [
    {
     "output_type": "execute_result",
     "data": {
      "text/plain": [
       "array([[0.01214837, 1.        ],\n",
       "       [0.02458437, 0.        ],\n",
       "       [0.02260169, 0.        ],\n",
       "       [0.0180705 , 0.        ],\n",
       "       [0.00281658, 1.        ]])"
      ]
     },
     "metadata": {},
     "execution_count": 5
    }
   ],
   "source": [
    "from sklearn.preprocessing import MinMaxScaler\n",
    "\n",
    "scaler = MinMaxScaler()\n",
    "scaled_data = scaler.fit_transform(main_df[[\"Close\", \"Class\"]])\n",
    "scaled_data[:5]"
   ]
  },
  {
   "cell_type": "code",
   "execution_count": null,
   "metadata": {},
   "outputs": [],
   "source": [
    "from sklearn.model_selection import train_test_split\n",
    "from utils import seq_split, preprocess_data\n",
    "\n",
    "X_train_set, X_test"
   ]
  }
 ]
}