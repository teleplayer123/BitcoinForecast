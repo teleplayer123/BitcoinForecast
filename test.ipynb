{
 "metadata": {
  "language_info": {
   "codemirror_mode": {
    "name": "ipython",
    "version": 3
   },
   "file_extension": ".py",
   "mimetype": "text/x-python",
   "name": "python",
   "nbconvert_exporter": "python",
   "pygments_lexer": "ipython3",
   "version": "3.8.9"
  },
  "orig_nbformat": 2,
  "kernelspec": {
   "name": "pythonjvsc74a57bd0b51df7ba0ac9391c133bb7c16fdcfc3917fcd4265f51a9a1e91146428be929f2",
   "display_name": "Python 3.8.9  ('venv': venv)"
  },
  "metadata": {
   "interpreter": {
    "hash": "b51df7ba0ac9391c133bb7c16fdcfc3917fcd4265f51a9a1e91146428be929f2"
   }
  }
 },
 "nbformat": 4,
 "nbformat_minor": 2,
 "cells": [
  {
   "cell_type": "code",
   "execution_count": null,
   "metadata": {},
   "outputs": [],
   "source": [
    "import numpy as np \r\n",
    "from sklearn.preprocessing import MinMaxScaler\r\n",
    "import matplotlib.pyplot as plt\r\n",
    "import pandas as pd \r\n",
    "from time import time\r\n",
    "\r\n",
    "#declaring global constant variables\r\n",
    "FEATURE_COLUMNS = [\"Time\", \"Low\", \"High\", \"Open\", \"Close\", \"Volume\"]  #column names for dataframe\r\n",
    "SEQ_LEN = 60   #number of sequences to create in data, i.e. 2nd dim of full shape [batchsize, timesteps, ]\r\n",
    "FORECAST_STEP = 12\r\n",
    "BATCH_SIZE = 64\r\n",
    "EPOCHS = 10\r\n",
    "NAME = f\"RNN-BTC-Model-SEQ-{SEQ_LEN}-PRED-{FORECAST_STEP}-Timestamp-{time()}\""
   ]
  }
 ]
}