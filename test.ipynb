{
 "metadata": {
  "language_info": {
   "codemirror_mode": {
    "name": "ipython",
    "version": 3
   },
   "file_extension": ".py",
   "mimetype": "text/x-python",
   "name": "python",
   "nbconvert_exporter": "python",
   "pygments_lexer": "ipython3",
   "version": "3.8.9"
  },
  "orig_nbformat": 2,
  "kernelspec": {
   "name": "python389jvsc74a57bd0e1ca8841a284e91e97cdf3066383f4ce210cef287b8d8028465a2cfe5f22b294",
   "display_name": "Python 3.8.9 64-bit ('venv': venv)"
  },
  "metadata": {
   "interpreter": {
    "hash": "b51df7ba0ac9391c133bb7c16fdcfc3917fcd4265f51a9a1e91146428be929f2"
   }
  }
 },
 "nbformat": 4,
 "nbformat_minor": 2,
 "cells": [
  {
   "cell_type": "code",
   "execution_count": 20,
   "metadata": {},
   "outputs": [
    {
     "output_type": "execute_result",
     "data": {
      "text/plain": [
       "                    Low         High         Open  ...    Volume     Forecast  Class\n",
       "Time                                               ...                              \n",
       "1528968660  6489.549805  6489.560059  6489.560059  ...  0.587100  6479.410156      0\n",
       "1528968720  6487.370117  6489.560059  6489.549805  ...  7.706374  6479.979980      0\n",
       "1528968780  6479.410156  6487.370117  6487.370117  ...  3.088252  6480.000000      1\n",
       "1528968840  6479.410156  6479.419922  6479.419922  ...  1.404100  6477.220215      0\n",
       "1528968900  6475.930176  6479.979980  6479.410156  ...  0.753000  6480.000000      1\n",
       "1528968960  6477.959961  6480.000000  6477.959961  ...  1.490900  6479.990234      0\n",
       "1528969020  6477.220215  6480.000000  6479.990234  ...  2.731950  6478.660156      1\n",
       "1528969080  6477.220215  6480.000000  6477.220215  ...  2.174240  6478.660156      0\n",
       "1528969140  6479.990234  6479.990234  6479.990234  ...  0.903100  6479.339844      0\n",
       "1528969200  6477.259766  6479.990234  6479.990234  ...  3.258786  6479.350098      1\n",
       "\n",
       "[10 rows x 7 columns]"
      ],
      "text/html": "<div>\n<style scoped>\n    .dataframe tbody tr th:only-of-type {\n        vertical-align: middle;\n    }\n\n    .dataframe tbody tr th {\n        vertical-align: top;\n    }\n\n    .dataframe thead th {\n        text-align: right;\n    }\n</style>\n<table border=\"1\" class=\"dataframe\">\n  <thead>\n    <tr style=\"text-align: right;\">\n      <th></th>\n      <th>Low</th>\n      <th>High</th>\n      <th>Open</th>\n      <th>Close</th>\n      <th>Volume</th>\n      <th>Forecast</th>\n      <th>Class</th>\n    </tr>\n    <tr>\n      <th>Time</th>\n      <th></th>\n      <th></th>\n      <th></th>\n      <th></th>\n      <th></th>\n      <th></th>\n      <th></th>\n    </tr>\n  </thead>\n  <tbody>\n    <tr>\n      <th>1528968660</th>\n      <td>6489.549805</td>\n      <td>6489.560059</td>\n      <td>6489.560059</td>\n      <td>6489.549805</td>\n      <td>0.587100</td>\n      <td>6479.410156</td>\n      <td>0</td>\n    </tr>\n    <tr>\n      <th>1528968720</th>\n      <td>6487.370117</td>\n      <td>6489.560059</td>\n      <td>6489.549805</td>\n      <td>6487.379883</td>\n      <td>7.706374</td>\n      <td>6479.979980</td>\n      <td>0</td>\n    </tr>\n    <tr>\n      <th>1528968780</th>\n      <td>6479.410156</td>\n      <td>6487.370117</td>\n      <td>6487.370117</td>\n      <td>6479.410156</td>\n      <td>3.088252</td>\n      <td>6480.000000</td>\n      <td>1</td>\n    </tr>\n    <tr>\n      <th>1528968840</th>\n      <td>6479.410156</td>\n      <td>6479.419922</td>\n      <td>6479.419922</td>\n      <td>6479.410156</td>\n      <td>1.404100</td>\n      <td>6477.220215</td>\n      <td>0</td>\n    </tr>\n    <tr>\n      <th>1528968900</th>\n      <td>6475.930176</td>\n      <td>6479.979980</td>\n      <td>6479.410156</td>\n      <td>6479.979980</td>\n      <td>0.753000</td>\n      <td>6480.000000</td>\n      <td>1</td>\n    </tr>\n    <tr>\n      <th>1528968960</th>\n      <td>6477.959961</td>\n      <td>6480.000000</td>\n      <td>6477.959961</td>\n      <td>6480.000000</td>\n      <td>1.490900</td>\n      <td>6479.990234</td>\n      <td>0</td>\n    </tr>\n    <tr>\n      <th>1528969020</th>\n      <td>6477.220215</td>\n      <td>6480.000000</td>\n      <td>6479.990234</td>\n      <td>6477.220215</td>\n      <td>2.731950</td>\n      <td>6478.660156</td>\n      <td>1</td>\n    </tr>\n    <tr>\n      <th>1528969080</th>\n      <td>6477.220215</td>\n      <td>6480.000000</td>\n      <td>6477.220215</td>\n      <td>6480.000000</td>\n      <td>2.174240</td>\n      <td>6478.660156</td>\n      <td>0</td>\n    </tr>\n    <tr>\n      <th>1528969140</th>\n      <td>6479.990234</td>\n      <td>6479.990234</td>\n      <td>6479.990234</td>\n      <td>6479.990234</td>\n      <td>0.903100</td>\n      <td>6479.339844</td>\n      <td>0</td>\n    </tr>\n    <tr>\n      <th>1528969200</th>\n      <td>6477.259766</td>\n      <td>6479.990234</td>\n      <td>6479.990234</td>\n      <td>6478.660156</td>\n      <td>3.258786</td>\n      <td>6479.350098</td>\n      <td>1</td>\n    </tr>\n  </tbody>\n</table>\n</div>"
     },
     "metadata": {},
     "execution_count": 20
    }
   ],
   "source": [
    "import numpy as np \n",
    "from sklearn.preprocessing import MinMaxScaler\n",
    "import matplotlib.pyplot as plt\n",
    "import pandas as pd \n",
    "from time import time\n",
    "\n",
    "from utils import binary_classification\n",
    "\n",
    "FEATURE_COLUMNS = [\"Time\", \"Low\", \"High\", \"Open\", \"Close\", \"Volume\"]\n",
    "SEQ_LEN = 60\n",
    "FORECAST_STEP = 3\n",
    "BATCH_SIZE = 64\n",
    "EPOCHS = 20\n",
    "\n",
    "scaler = MinMaxScaler()\n",
    "        \n",
    "df = pd.read_csv(\"data/BTC-USD.csv\", names=FEATURE_COLUMNS)\n",
    "df.set_index(\"Time\", inplace=True)\n",
    "btc_df = df.copy()\n",
    "btc_df[\"Forecast\"] = btc_df[\"Close\"].shift(-FORECAST_STEP)\n",
    "btc_df[\"Class\"] = list(map(binary_classification, btc_df[\"Close\"], btc_df[\"Forecast\"]))\n",
    "btc_df.dropna(inplace=True)\n",
    "#btc_df[\"Close\"] = scale(btc_df[\"Close\"].values)\n",
    "#btc_df[\"Volume\"] = scale(btc_df[\"Volume\"].values)\n",
    "btc_df.head(10)"
   ]
  },
  {
   "cell_type": "code",
   "execution_count": 25,
   "metadata": {},
   "outputs": [
    {
     "output_type": "execute_result",
     "data": {
      "text/plain": [
       "array([[0.26303937, 0.00073017],\n",
       "       [0.26223709, 0.00961326],\n",
       "       [0.25929046, 0.00385098],\n",
       "       ...,\n",
       "       [0.34565159, 0.00290609],\n",
       "       [0.34570701, 0.00095824],\n",
       "       [0.34621719, 0.00124867]])"
      ]
     },
     "metadata": {},
     "execution_count": 25
    }
   ],
   "source": [
    "scaled_data = scaler.fit_transform(btc_df[[\"Close\", \"Volume\"]])\n",
    "scaled_data"
   ]
  },
  {
   "cell_type": "code",
   "execution_count": 26,
   "metadata": {},
   "outputs": [
    {
     "output_type": "execute_result",
     "data": {
      "text/plain": [
       "array([0.26303937, 0.26223709, 0.25929046, ..., 0.34565159, 0.34570701,\n",
       "       0.34621719])"
      ]
     },
     "metadata": {},
     "execution_count": 26
    }
   ],
   "source": [
    "scaled_data[:, 0]"
   ]
  },
  {
   "cell_type": "code",
   "execution_count": 27,
   "metadata": {},
   "outputs": [
    {
     "output_type": "execute_result",
     "data": {
      "text/plain": [
       "array([0.00073017, 0.00961326, 0.00385098, ..., 0.00290609, 0.00095824,\n",
       "       0.00124867])"
      ]
     },
     "metadata": {},
     "execution_count": 27
    }
   ],
   "source": [
    "scaled_data[:, 1]"
   ]
  },
  {
   "cell_type": "code",
   "execution_count": null,
   "metadata": {},
   "outputs": [],
   "source": [
    "data = {}\n",
    "data[\"Close\"] = "
   ]
  }
 ]
}