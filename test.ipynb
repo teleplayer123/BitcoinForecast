{
 "metadata": {
  "language_info": {
   "codemirror_mode": {
    "name": "ipython",
    "version": 3
   },
   "file_extension": ".py",
   "mimetype": "text/x-python",
   "name": "python",
   "nbconvert_exporter": "python",
   "pygments_lexer": "ipython3",
   "version": "3.8.9"
  },
  "orig_nbformat": 2,
  "kernelspec": {
   "name": "python389jvsc74a57bd0b51df7ba0ac9391c133bb7c16fdcfc3917fcd4265f51a9a1e91146428be929f2",
   "display_name": "Python 3.8.9  ('venv': venv)"
  },
  "metadata": {
   "interpreter": {
    "hash": "b51df7ba0ac9391c133bb7c16fdcfc3917fcd4265f51a9a1e91146428be929f2"
   }
  }
 },
 "nbformat": 4,
 "nbformat_minor": 2,
 "cells": [
  {
   "cell_type": "code",
   "execution_count": 3,
   "metadata": {},
   "outputs": [
    {
     "output_type": "stream",
     "name": "stdout",
     "text": [
      "                      Timestamp     Open  ...  Volume_(Currency)  Weighted_Price\nDate                                      ...                                   \n2018-06-14 09:31:00  1528968660  6499.35  ...        16896.72053     6497.353255\n\n[1 rows x 8 columns]\n"
     ]
    }
   ],
   "source": [
    "import numpy as np \n",
    "from sklearn.preprocessing import MinMaxScaler\n",
    "import matplotlib.pyplot as plt\n",
    "import pandas as pd \n",
    "from time import time\n",
    "\n",
    "#declaring global constant variables\n",
    "FEATURE_COLUMNS = [\"Time\", \"Low\", \"High\", \"Open\", \"Close\", \"Volume\"]  #column names for dataframe\n",
    "SEQ_LEN = 60   #number of sequences to create in data, i.e. 2nd dim of full shape [batchsize, timesteps, ]\n",
    "FORECAST_STEP = 12\n",
    "BATCH_SIZE = 64\n",
    "EPOCHS = 10\n",
    "NAME = f\"RNN-BTC-Model-SEQ-{SEQ_LEN}-PRED-{FORECAST_STEP}-Timestamp-{time()}\"\n",
    "\n",
    "df = pd.read_csv(\"data/btc-kaggle.csv\")\n",
    "df[\"Date\"] = pd.to_datetime(df[\"Timestamp\"], unit=\"s\")\n",
    "df.set_index(\"Date\", inplace=True)\n",
    "t = df.loc[df[\"Timestamp\"] == 1528968660]\n",
    "print(t)"
   ]
  },
  {
   "cell_type": "code",
   "execution_count": null,
   "metadata": {},
   "outputs": [],
   "source": []
  }
 ]
}