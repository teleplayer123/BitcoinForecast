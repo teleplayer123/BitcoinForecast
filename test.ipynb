{
 "metadata": {
  "language_info": {
   "codemirror_mode": {
    "name": "ipython",
    "version": 3
   },
   "file_extension": ".py",
   "mimetype": "text/x-python",
   "name": "python",
   "nbconvert_exporter": "python",
   "pygments_lexer": "ipython3",
   "version": "3.8.9"
  },
  "orig_nbformat": 2,
  "kernelspec": {
   "name": "pythonjvsc74a57bd0b51df7ba0ac9391c133bb7c16fdcfc3917fcd4265f51a9a1e91146428be929f2",
   "display_name": "Python 3.8.9  ('venv': venv)"
  },
  "metadata": {
   "interpreter": {
    "hash": "b51df7ba0ac9391c133bb7c16fdcfc3917fcd4265f51a9a1e91146428be929f2"
   }
  }
 },
 "nbformat": 4,
 "nbformat_minor": 2,
 "cells": [
  {
   "cell_type": "code",
   "execution_count": 7,
   "metadata": {
    "tags": []
   },
   "outputs": [
    {
     "output_type": "execute_result",
     "data": {
      "text/plain": [
       "                  Close     Forecast  Class\n",
       "Time                                       \n",
       "1528968660  6489.549805  6479.410156      0\n",
       "1528968720  6487.379883  6479.410156      0\n",
       "1528968780  6479.410156  6479.979980      1\n",
       "1528968840  6479.410156  6480.000000      1\n",
       "1528968900  6479.979980  6477.220215      0\n",
       "1528968960  6480.000000  6480.000000      0\n",
       "1528969020  6477.220215  6479.990234      1\n",
       "1528969080  6480.000000  6478.660156      0\n",
       "1528969140  6479.990234  6478.660156      0\n",
       "1528969200  6478.660156  6479.339844      1\n",
       "1528969260  6478.660156  6479.350098      1\n",
       "1528969320  6479.339844  6479.990234      1\n",
       "1528969380  6479.350098  6481.890137      1\n",
       "1528969440  6479.990234  6484.709961      1\n",
       "1528969500  6481.890137  6484.709961      1"
      ],
      "text/html": "<div>\n<style scoped>\n    .dataframe tbody tr th:only-of-type {\n        vertical-align: middle;\n    }\n\n    .dataframe tbody tr th {\n        vertical-align: top;\n    }\n\n    .dataframe thead th {\n        text-align: right;\n    }\n</style>\n<table border=\"1\" class=\"dataframe\">\n  <thead>\n    <tr style=\"text-align: right;\">\n      <th></th>\n      <th>Close</th>\n      <th>Forecast</th>\n      <th>Class</th>\n    </tr>\n    <tr>\n      <th>Time</th>\n      <th></th>\n      <th></th>\n      <th></th>\n    </tr>\n  </thead>\n  <tbody>\n    <tr>\n      <th>1528968660</th>\n      <td>6489.549805</td>\n      <td>6479.410156</td>\n      <td>0</td>\n    </tr>\n    <tr>\n      <th>1528968720</th>\n      <td>6487.379883</td>\n      <td>6479.410156</td>\n      <td>0</td>\n    </tr>\n    <tr>\n      <th>1528968780</th>\n      <td>6479.410156</td>\n      <td>6479.979980</td>\n      <td>1</td>\n    </tr>\n    <tr>\n      <th>1528968840</th>\n      <td>6479.410156</td>\n      <td>6480.000000</td>\n      <td>1</td>\n    </tr>\n    <tr>\n      <th>1528968900</th>\n      <td>6479.979980</td>\n      <td>6477.220215</td>\n      <td>0</td>\n    </tr>\n    <tr>\n      <th>1528968960</th>\n      <td>6480.000000</td>\n      <td>6480.000000</td>\n      <td>0</td>\n    </tr>\n    <tr>\n      <th>1528969020</th>\n      <td>6477.220215</td>\n      <td>6479.990234</td>\n      <td>1</td>\n    </tr>\n    <tr>\n      <th>1528969080</th>\n      <td>6480.000000</td>\n      <td>6478.660156</td>\n      <td>0</td>\n    </tr>\n    <tr>\n      <th>1528969140</th>\n      <td>6479.990234</td>\n      <td>6478.660156</td>\n      <td>0</td>\n    </tr>\n    <tr>\n      <th>1528969200</th>\n      <td>6478.660156</td>\n      <td>6479.339844</td>\n      <td>1</td>\n    </tr>\n    <tr>\n      <th>1528969260</th>\n      <td>6478.660156</td>\n      <td>6479.350098</td>\n      <td>1</td>\n    </tr>\n    <tr>\n      <th>1528969320</th>\n      <td>6479.339844</td>\n      <td>6479.990234</td>\n      <td>1</td>\n    </tr>\n    <tr>\n      <th>1528969380</th>\n      <td>6479.350098</td>\n      <td>6481.890137</td>\n      <td>1</td>\n    </tr>\n    <tr>\n      <th>1528969440</th>\n      <td>6479.990234</td>\n      <td>6484.709961</td>\n      <td>1</td>\n    </tr>\n    <tr>\n      <th>1528969500</th>\n      <td>6481.890137</td>\n      <td>6484.709961</td>\n      <td>1</td>\n    </tr>\n  </tbody>\n</table>\n</div>"
     },
     "metadata": {},
     "execution_count": 7
    }
   ],
   "source": [
    "import numpy as np \n",
    "import matplotlib.pyplot as plt\n",
    "import pandas as pd \n",
    "\n",
    "from build_model import build_model\n",
    "\n",
    "FEATURE_COLUMNS = [\"Time\", \"Low\", \"High\", \"Open\", \"Close\", \"Volume\"]\n",
    "FORECAST_STEP = 2\n",
    "\n",
    "def binary_classification(prev, forecast):\n",
    "    if prev >= forecast:\n",
    "        return 0\n",
    "    else:\n",
    "        return 1\n",
    "\n",
    "def split_train_test(df, tsize):\n",
    "    test_size = int(len(df) * tsize)\n",
    "    \n",
    "\n",
    "df = pd.read_csv(\"data/BTC-USD.csv\", names=FEATURE_COLUMNS)\n",
    "df = pd.DataFrame(df)\n",
    "btc_df = df.set_index([df[\"Time\"]])[[\"Close\"]]\n",
    "btc_df[\"Forecast\"] = btc_df[\"Close\"].shift(-FORECAST_STEP)\n",
    "btc_df[\"Class\"] = list(map(binary_classification, btc_df[\"Close\"], btc_df[\"Forecast\"]))\n",
    "btc_df.dropna(inplace=True)\n",
    "btc_df.head(15)"
   ]
  },
  {
   "cell_type": "code",
   "execution_count": null,
   "metadata": {},
   "outputs": [],
   "source": [
    "for col in btc_df.columns:\n",
    "    "
   ]
  }
 ]
}